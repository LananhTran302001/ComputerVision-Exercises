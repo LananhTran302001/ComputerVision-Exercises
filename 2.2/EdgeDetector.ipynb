{
 "cells": [
  {
   "cell_type": "code",
   "execution_count": null,
   "metadata": {},
   "outputs": [],
   "source": [
    "import numpy as np\n",
    "import matplotlib.pyplot as plt\n",
    "import cv2"
   ]
  },
  {
   "cell_type": "markdown",
   "metadata": {},
   "source": [
    "# Edge detector\n",
    "Apply Sobel filter and non maximum suppression"
   ]
  },
  {
   "cell_type": "code",
   "execution_count": null,
   "metadata": {},
   "outputs": [],
   "source": [
    "def applySobelFilter(img, ksize):\n",
    "    gray = cv2.cvtColor(img,cv2.COLOR_BGR2GRAY)\n",
    "\n",
    "    img_gaussian = cv2.GaussianBlur(gray,(3,3),0)\n",
    "        \n",
    "    height = img.shape[0]   #.shape[0] outputs height \n",
    "    width = img.shape[1]    #.shape[1] outputs width, shape[2] outputs color channels of image\n",
    "    matrix_R = np.zeros((height,width))\n",
    "    \n",
    "    #   Step 1 - Calculate the image derivatives in x and y (Ix, Iy)\n",
    "    Ix = cv2.Sobel(src=img_gaussian, ddepth=cv2.CV_64F, dx=1, dy=0, ksize=5)\n",
    "    Iy = cv2.Sobel(src=img_gaussian, ddepth=cv2.CV_64F, dx=0, dy= 1, ksize=5)"
   ]
  },
  {
   "cell_type": "markdown",
   "metadata": {},
   "source": [
    "#### Non-max suppression\n",
    "For each pixel, we check if it is a local maximum in its neighborhood in the direction of gradient or not.<br>\n",
    "If it is a local maximum it is retained as an edge pixel, otherwise suppressed.<br>\n",
    "For each pixel, the neighboring pixels are located in horizontal, vertical, diagonal directions (0, 45, 90, 135 degree)<br>\n",
    "\n",
    "Based on these inputs the <i><strong>non-max-suppression steps</strong></i> are:\n",
    "- Create a matrix initialized to 0 of the same size of the original gradient intensity matrix.\n",
    "- Identify the edge direction based on the angle value from the angle matrix.\n",
    "- Check if the pixel in the same direction has a higher intensity than the pixel that is currently processed.\n",
    "- Return the image processed with the non-max suppression algorithm.<br><br><br>\n",
    "\n",
    "With the gradient of image:\n",
    "\\begin{equation*}\n",
    "G = \\lbrack G_x, G_y \\rbrack\n",
    "\\end{equation*}\n",
    "Then: \n",
    "* mag: gradient magnitude image\n",
    "\\begin{equation*}\n",
    "\\vert G \\vert = \\sqrt{(G_x)^2 + (G_y)^2}\n",
    "\\end{equation*}\n",
    "* theta: edge direction\n",
    "\\begin{equation*}\n",
    "\\theta = \\arctan(\\frac{G_y}{G_x})\n",
    "\\end{equation*}"
   ]
  },
  {
   "cell_type": "code",
   "execution_count": null,
   "metadata": {},
   "outputs": [],
   "source": [
    "def nonMaxSuppression(gray_img):\n",
    "\n",
    "    img_gaussian = cv2.GaussianBlur(gray_img,(3,3),0)\n",
    "\n",
    "    Ix = cv2.Sobel(src=img_gaussian, ddepth=cv2.CV_64F, dx=1, dy=0, ksize=3)\n",
    "    Iy = cv2.Sobel(src=img_gaussian, ddepth=cv2.CV_64F, dx=0, dy= 1, ksize=3)\n",
    "    \n",
    "    mag = np.hypot(Ix, Iy)\n",
    "    mag = mag / mag.max() * 255\n",
    "    theta = np.arctan2(Iy, Ix)\n",
    "\n",
    "    height = mag.shape[0]\n",
    "    width = mag.shape[1]\n",
    "    non_max = np.zeros((height, width), dtype=np.int32)\n",
    "    \n",
    "    # radian to degree\n",
    "    angle = theta * 180. / np.pi\n",
    "    angle[angle < 0] += 180\n",
    "\n",
    "    \n",
    "    for i in range(1, height - 1):\n",
    "        for j in range(1, width - 1):\n",
    "            try:\n",
    "                q = 255\n",
    "                r = 255\n",
    "                \n",
    "               #angle 0\n",
    "                if (0 <= angle[i,j] < 22.5) or (157.5 <= angle[i,j] <= 180):\n",
    "                    q = mag[i, j+1]\n",
    "                    r = mag[i, j-1]\n",
    "                #angle 45\n",
    "                elif (22.5 <= angle[i,j] < 67.5):\n",
    "                    q = mag[i+1, j-1]\n",
    "                    r = mag[i-1, j+1]\n",
    "                #angle 90\n",
    "                elif (67.5 <= angle[i,j] < 112.5):\n",
    "                    q = mag[i+1, j]\n",
    "                    r = mag[i-1, j]\n",
    "                #angle 135\n",
    "                elif (112.5 <= angle[i,j] < 157.5):\n",
    "                    q = mag[i-1, j-1]\n",
    "                    r = mag[i+1, j+1]\n",
    "\n",
    "                if (mag[i,j] >= q) and (mag[i,j] >= r):\n",
    "                    non_max[i,j] = mag[i,j]\n",
    "                else:\n",
    "                    non_max[i,j] = 0\n",
    "\n",
    "            except IndexError as e:\n",
    "                pass\n",
    "    \n",
    "    return non_max"
   ]
  }
 ],
 "metadata": {
  "language_info": {
   "name": "python"
  },
  "orig_nbformat": 4
 },
 "nbformat": 4,
 "nbformat_minor": 2
}
